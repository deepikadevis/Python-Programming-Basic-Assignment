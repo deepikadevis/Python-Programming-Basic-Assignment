{
 "cells": [
  {
   "cell_type": "markdown",
   "id": "5e48d65f",
   "metadata": {},
   "source": [
    "# Python Basic Programming 23"
   ]
  },
  {
   "cell_type": "markdown",
   "id": "e2d34a2b",
   "metadata": {},
   "source": [
    "## Question 1:"
   ]
  },
  {
   "cell_type": "raw",
   "id": "be639507",
   "metadata": {},
   "source": [
    "Create a function that takes a number as an argument and returns True or False depending\n",
    "on whether the number is symmetrical or not. A number is symmetrical when it is the same as\n",
    "its reverse.\n",
    "Examples\n",
    "is_symmetrical(7227) ➞ True\n",
    "is_symmetrical(12567) ➞ False\n",
    "is_symmetrical(44444444) ➞ True\n",
    "is_symmetrical(9939) ➞ False\n",
    "is_symmetrical(1112111) ➞ True"
   ]
  },
  {
   "cell_type": "code",
   "execution_count": 83,
   "id": "24bab905",
   "metadata": {},
   "outputs": [],
   "source": [
    "def is_symmetrical(num):\n",
    "    currentDigit = reversedDigit = 0\n",
    "    remainingNum = num\n",
    "    while(remainingNum != 0):\n",
    "\n",
    "        currentDigit = remainingNum % 10\n",
    "\n",
    "        reversedDigit = reversedDigit * 10 + currentDigit\n",
    "        print('Reveresed Digit :',reversedDigit)\n",
    "        remainingNum = remainingNum // 10\n",
    "\n",
    "    if reversedDigit == num:\n",
    "        print('Num {} is symmetrical'.format(num))\n",
    "    else:\n",
    "        print('Num {} is not symmetrical'.format(num))      "
   ]
  },
  {
   "cell_type": "code",
   "execution_count": 84,
   "id": "466ba47d",
   "metadata": {},
   "outputs": [
    {
     "name": "stdout",
     "output_type": "stream",
     "text": [
      "Reveresed Digit : 7\n",
      "Reveresed Digit : 72\n",
      "Reveresed Digit : 722\n",
      "Reveresed Digit : 7227\n",
      "Num 7227 is symmetrical\n"
     ]
    }
   ],
   "source": [
    "is_symmetrical(7227)"
   ]
  },
  {
   "cell_type": "code",
   "execution_count": 85,
   "id": "20f6a0c1",
   "metadata": {},
   "outputs": [
    {
     "name": "stdout",
     "output_type": "stream",
     "text": [
      "Reveresed Digit : 7\n",
      "Reveresed Digit : 76\n",
      "Reveresed Digit : 765\n",
      "Reveresed Digit : 7652\n",
      "Reveresed Digit : 76521\n",
      "Num 12567 is not symmetrical\n"
     ]
    }
   ],
   "source": [
    "is_symmetrical(12567)"
   ]
  },
  {
   "cell_type": "code",
   "execution_count": 86,
   "id": "37c11dee",
   "metadata": {},
   "outputs": [
    {
     "name": "stdout",
     "output_type": "stream",
     "text": [
      "Reveresed Digit : 4\n",
      "Reveresed Digit : 44\n",
      "Reveresed Digit : 444\n",
      "Reveresed Digit : 4444\n",
      "Reveresed Digit : 44444\n",
      "Reveresed Digit : 444444\n",
      "Reveresed Digit : 4444444\n",
      "Reveresed Digit : 44444444\n",
      "Num 44444444 is symmetrical\n"
     ]
    }
   ],
   "source": [
    "is_symmetrical(44444444)"
   ]
  },
  {
   "cell_type": "code",
   "execution_count": 87,
   "id": "d07a81f8",
   "metadata": {},
   "outputs": [
    {
     "name": "stdout",
     "output_type": "stream",
     "text": [
      "Reveresed Digit : 9\n",
      "Reveresed Digit : 93\n",
      "Reveresed Digit : 939\n",
      "Reveresed Digit : 9399\n",
      "Num 9939 is not symmetrical\n"
     ]
    }
   ],
   "source": [
    "is_symmetrical(9939)"
   ]
  },
  {
   "cell_type": "code",
   "execution_count": 88,
   "id": "91cc4f0a",
   "metadata": {},
   "outputs": [
    {
     "name": "stdout",
     "output_type": "stream",
     "text": [
      "Reveresed Digit : 1\n",
      "Reveresed Digit : 11\n",
      "Reveresed Digit : 111\n",
      "Reveresed Digit : 1112\n",
      "Reveresed Digit : 11121\n",
      "Reveresed Digit : 111211\n",
      "Reveresed Digit : 1112111\n",
      "Num 1112111 is symmetrical\n"
     ]
    }
   ],
   "source": [
    "is_symmetrical(1112111)"
   ]
  },
  {
   "cell_type": "markdown",
   "id": "6a61f768",
   "metadata": {},
   "source": [
    "## Question 2:"
   ]
  },
  {
   "cell_type": "raw",
   "id": "1cff4b3a",
   "metadata": {},
   "source": [
    "Given a string of numbers separated by a comma and space, return the product of the\n",
    "numbers.\n",
    "Examples\n",
    "multiply_nums('2, 3') ➞ 6\n",
    "multiply_nums('1, 2, 3, 4') ➞ 24\n",
    "multiply_nums('54, 75, 453, 0') ➞ 0\n",
    "multiply_nums('10, -2') ➞ -20"
   ]
  },
  {
   "cell_type": "code",
   "execution_count": 89,
   "id": "5c45a243",
   "metadata": {},
   "outputs": [],
   "source": [
    "def multiply_nums(s):\n",
    "    s = s.replace(' ', \"\")\n",
    "    s = s.split(',')\n",
    "    sum = 1\n",
    "    for i in s:\n",
    "        sum = sum * int(i)\n",
    "    return sum"
   ]
  },
  {
   "cell_type": "code",
   "execution_count": 90,
   "id": "abec6e60",
   "metadata": {},
   "outputs": [
    {
     "data": {
      "text/plain": [
       "6"
      ]
     },
     "execution_count": 90,
     "metadata": {},
     "output_type": "execute_result"
    }
   ],
   "source": [
    "multiply_nums('2, 3')"
   ]
  },
  {
   "cell_type": "code",
   "execution_count": 91,
   "id": "bdda6f41",
   "metadata": {},
   "outputs": [
    {
     "data": {
      "text/plain": [
       "24"
      ]
     },
     "execution_count": 91,
     "metadata": {},
     "output_type": "execute_result"
    }
   ],
   "source": [
    "multiply_nums('1, 2, 3, 4')"
   ]
  },
  {
   "cell_type": "code",
   "execution_count": 92,
   "id": "42812ba0",
   "metadata": {},
   "outputs": [
    {
     "data": {
      "text/plain": [
       "0"
      ]
     },
     "execution_count": 92,
     "metadata": {},
     "output_type": "execute_result"
    }
   ],
   "source": [
    "multiply_nums('54, 75, 453, 0')"
   ]
  },
  {
   "cell_type": "code",
   "execution_count": 93,
   "id": "674196e2",
   "metadata": {},
   "outputs": [
    {
     "data": {
      "text/plain": [
       "-20"
      ]
     },
     "execution_count": 93,
     "metadata": {},
     "output_type": "execute_result"
    }
   ],
   "source": [
    "multiply_nums('10, -2') "
   ]
  },
  {
   "cell_type": "markdown",
   "id": "6284ae40",
   "metadata": {},
   "source": [
    "## Question 3:"
   ]
  },
  {
   "cell_type": "raw",
   "id": "8c36b5ae",
   "metadata": {},
   "source": [
    "Create a function that squares every digit of a number.\n",
    "Examples\n",
    "square_digits(9119) ➞ 811181\n",
    "square_digits(2483) ➞ 416649\n",
    "square_digits(3212) ➞ 9414\n",
    "Notes\n",
    "The function receives an integer and must return an integer."
   ]
  },
  {
   "cell_type": "code",
   "execution_count": 94,
   "id": "b72b5f32",
   "metadata": {},
   "outputs": [],
   "source": [
    "def square_digits(num):\n",
    "    z = ''.join(str(int(i)**2) for i in str(num))\n",
    "    return int(z)"
   ]
  },
  {
   "cell_type": "code",
   "execution_count": 95,
   "id": "96eb46fe",
   "metadata": {},
   "outputs": [
    {
     "data": {
      "text/plain": [
       "811181"
      ]
     },
     "execution_count": 95,
     "metadata": {},
     "output_type": "execute_result"
    }
   ],
   "source": [
    "square_digits(9119)"
   ]
  },
  {
   "cell_type": "code",
   "execution_count": 96,
   "id": "07b46114",
   "metadata": {},
   "outputs": [
    {
     "data": {
      "text/plain": [
       "416649"
      ]
     },
     "execution_count": 96,
     "metadata": {},
     "output_type": "execute_result"
    }
   ],
   "source": [
    "square_digits(2483)"
   ]
  },
  {
   "cell_type": "code",
   "execution_count": 97,
   "id": "4060dfd5",
   "metadata": {},
   "outputs": [
    {
     "data": {
      "text/plain": [
       "9414"
      ]
     },
     "execution_count": 97,
     "metadata": {},
     "output_type": "execute_result"
    }
   ],
   "source": [
    "square_digits(3212)"
   ]
  },
  {
   "cell_type": "markdown",
   "id": "c41e0b7b",
   "metadata": {},
   "source": [
    "## Question 4:"
   ]
  },
  {
   "cell_type": "raw",
   "id": "60778c52",
   "metadata": {},
   "source": [
    "Create a function that sorts a list and removes all duplicate items from it.\n",
    "Examples\n",
    "setify([1, 3, 3, 5, 5]) ➞ [1, 3, 5]\n",
    "setify([4, 4, 4, 4]) ➞ [4]\n",
    "setify([5, 7, 8, 9, 10, 15]) ➞ [5, 7, 8, 9, 10, 15]\n",
    "setify([3, 3, 3, 2, 1]) ➞ [1, 2, 3]"
   ]
  },
  {
   "cell_type": "code",
   "execution_count": 98,
   "id": "9b1dc2e4",
   "metadata": {},
   "outputs": [],
   "source": [
    "def setify(lst):\n",
    "    return list(set(lst))"
   ]
  },
  {
   "cell_type": "code",
   "execution_count": 99,
   "id": "5adbb313",
   "metadata": {},
   "outputs": [
    {
     "data": {
      "text/plain": [
       "[1, 3, 5]"
      ]
     },
     "execution_count": 99,
     "metadata": {},
     "output_type": "execute_result"
    }
   ],
   "source": [
    "setify([1, 3, 3, 5, 5])"
   ]
  },
  {
   "cell_type": "code",
   "execution_count": 100,
   "id": "761c11c1",
   "metadata": {},
   "outputs": [
    {
     "data": {
      "text/plain": [
       "[4]"
      ]
     },
     "execution_count": 100,
     "metadata": {},
     "output_type": "execute_result"
    }
   ],
   "source": [
    "setify([4, 4, 4, 4])"
   ]
  },
  {
   "cell_type": "code",
   "execution_count": 101,
   "id": "2110df61",
   "metadata": {},
   "outputs": [
    {
     "data": {
      "text/plain": [
       "[5, 7, 8, 9, 10, 15]"
      ]
     },
     "execution_count": 101,
     "metadata": {},
     "output_type": "execute_result"
    }
   ],
   "source": [
    "setify([5, 7, 8, 9, 10, 15])"
   ]
  },
  {
   "cell_type": "code",
   "execution_count": 102,
   "id": "61b76ffc",
   "metadata": {},
   "outputs": [
    {
     "data": {
      "text/plain": [
       "[1, 2, 3]"
      ]
     },
     "execution_count": 102,
     "metadata": {},
     "output_type": "execute_result"
    }
   ],
   "source": [
    "setify([3, 3, 3, 2, 1])"
   ]
  },
  {
   "cell_type": "markdown",
   "id": "e227c67e",
   "metadata": {},
   "source": [
    "## Question 5:"
   ]
  },
  {
   "cell_type": "raw",
   "id": "bbed6f03",
   "metadata": {},
   "source": [
    "Create a function that returns the mean of all digits.\n",
    "Examples\n",
    "mean(42) ➞ 3\n",
    "mean(12345) ➞ 3\n",
    "mean(666) ➞ 6\n",
    "Notes\n",
    " The mean of all digits is the sum of digits / how many digits there are (e.g. mean of digits in\n",
    "512 is (5+1+2)/3(number of digits) = 8/3=2).\n",
    " The mean will always be an integer."
   ]
  },
  {
   "cell_type": "code",
   "execution_count": 103,
   "id": "cd385f43",
   "metadata": {
    "scrolled": true
   },
   "outputs": [],
   "source": [
    "def mean(n): \n",
    "    N = len(str(n)) \n",
    "    sum = mean = 0\n",
    "    \n",
    "    for digit in str(n):\n",
    "        sum += int(digit)       \n",
    "    return int(sum/N)"
   ]
  },
  {
   "cell_type": "code",
   "execution_count": 104,
   "id": "57474fb2",
   "metadata": {},
   "outputs": [
    {
     "data": {
      "text/plain": [
       "3"
      ]
     },
     "execution_count": 104,
     "metadata": {},
     "output_type": "execute_result"
    }
   ],
   "source": [
    "mean(42)"
   ]
  },
  {
   "cell_type": "code",
   "execution_count": 105,
   "id": "5e7b2323",
   "metadata": {},
   "outputs": [
    {
     "data": {
      "text/plain": [
       "3"
      ]
     },
     "execution_count": 105,
     "metadata": {},
     "output_type": "execute_result"
    }
   ],
   "source": [
    "mean(12345)"
   ]
  },
  {
   "cell_type": "code",
   "execution_count": 106,
   "id": "0acdc69f",
   "metadata": {},
   "outputs": [
    {
     "data": {
      "text/plain": [
       "6"
      ]
     },
     "execution_count": 106,
     "metadata": {},
     "output_type": "execute_result"
    }
   ],
   "source": [
    "mean(666)"
   ]
  },
  {
   "cell_type": "code",
   "execution_count": null,
   "id": "0040c96b",
   "metadata": {},
   "outputs": [],
   "source": []
  }
 ],
 "metadata": {
  "kernelspec": {
   "display_name": "Python 3",
   "language": "python",
   "name": "python3"
  },
  "language_info": {
   "codemirror_mode": {
    "name": "ipython",
    "version": 3
   },
   "file_extension": ".py",
   "mimetype": "text/x-python",
   "name": "python",
   "nbconvert_exporter": "python",
   "pygments_lexer": "ipython3",
   "version": "3.8.8"
  }
 },
 "nbformat": 4,
 "nbformat_minor": 5
}
