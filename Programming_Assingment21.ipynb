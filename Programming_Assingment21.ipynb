{
 "cells": [
  {
   "cell_type": "markdown",
   "id": "5e48d65f",
   "metadata": {},
   "source": [
    "# Python Basic Programming 21"
   ]
  },
  {
   "cell_type": "markdown",
   "id": "e2d34a2b",
   "metadata": {},
   "source": [
    "## Question 1:"
   ]
  },
  {
   "cell_type": "raw",
   "id": "a19f3a7f",
   "metadata": {},
   "source": [
    "Write a function that takes a list and a number as arguments. Add the number to the end of\n",
    "the list, then remove the first element of the list. The function should then return the updated\n",
    "list.\n",
    "Examples\n",
    "next_in_line([5, 6, 7, 8, 9], 1) ➞ [6, 7, 8, 9, 1]\n",
    "next_in_line([7, 6, 3, 23, 17], 10) ➞ [6, 3, 23, 17, 10]\n",
    "next_in_line([1, 10, 20, 42 ], 6) ➞ [10, 20, 42, 6]\n",
    "next_in_line([], 6) ➞ 'No list has been selected'"
   ]
  },
  {
   "cell_type": "code",
   "execution_count": 31,
   "id": "24bab905",
   "metadata": {},
   "outputs": [],
   "source": [
    "lst = [5, 6, 7, 8, 9]\n",
    "def next_in_line(lst,num):\n",
    "    if len(lst) > 0 :\n",
    "        lst.append(num)\n",
    "        return lst[1:]\n",
    "    else:\n",
    "        print(\"'No list has been selected'\")"
   ]
  },
  {
   "cell_type": "code",
   "execution_count": 32,
   "id": "8a2d8f48",
   "metadata": {},
   "outputs": [
    {
     "data": {
      "text/plain": [
       "[6, 7, 8, 9, 1]"
      ]
     },
     "execution_count": 32,
     "metadata": {},
     "output_type": "execute_result"
    }
   ],
   "source": [
    "next_in_line([5, 6, 7, 8, 9], 1)"
   ]
  },
  {
   "cell_type": "code",
   "execution_count": 33,
   "id": "b3c7c754",
   "metadata": {},
   "outputs": [
    {
     "data": {
      "text/plain": [
       "[6, 3, 23, 17, 10]"
      ]
     },
     "execution_count": 33,
     "metadata": {},
     "output_type": "execute_result"
    }
   ],
   "source": [
    "next_in_line([7, 6, 3, 23, 17], 10)"
   ]
  },
  {
   "cell_type": "code",
   "execution_count": 34,
   "id": "80898945",
   "metadata": {},
   "outputs": [
    {
     "data": {
      "text/plain": [
       "[10, 20, 42, 6]"
      ]
     },
     "execution_count": 34,
     "metadata": {},
     "output_type": "execute_result"
    }
   ],
   "source": [
    "next_in_line([1, 10, 20, 42 ], 6)"
   ]
  },
  {
   "cell_type": "code",
   "execution_count": 35,
   "id": "8af2fcc9",
   "metadata": {},
   "outputs": [
    {
     "name": "stdout",
     "output_type": "stream",
     "text": [
      "'No list has been selected'\n"
     ]
    }
   ],
   "source": [
    "next_in_line([], 6)"
   ]
  },
  {
   "cell_type": "markdown",
   "id": "6a61f768",
   "metadata": {},
   "source": [
    "## Question 2:"
   ]
  },
  {
   "cell_type": "raw",
   "id": "c678277b",
   "metadata": {},
   "source": [
    "Create the function that takes a list of dictionaries and returns the sum of people's budgets.\n",
    "Examples\n",
    "get_budgets([\n",
    "{ 'name': 'John', 'age': 21, 'budget': 23000 },\n",
    "{ 'name': 'Steve', 'age': 32, 'budget': 40000 },\n",
    "{ 'name': 'Martin', 'age': 16, 'budget': 2700 }\n",
    "]) ➞ 65700\n",
    "get_budgets([\n",
    "{ 'name': 'John', 'age': 21, 'budget': 29000 },\n",
    "{ 'name': 'Steve', 'age': 32, 'budget': 32000 },\n",
    "{ 'name': 'Martin', 'age': 16, 'budget': 1600 }\n",
    "]) ➞ 62600"
   ]
  },
  {
   "cell_type": "code",
   "execution_count": 36,
   "id": "5c45a243",
   "metadata": {},
   "outputs": [],
   "source": [
    "def get_budgets(listDict):\n",
    "    sum = 0\n",
    "    for dc in listDict:\n",
    "        for k,v in dc.items():\n",
    "            if k == 'budget':\n",
    "                sum = sum + v\n",
    "    return sum"
   ]
  },
  {
   "cell_type": "code",
   "execution_count": 37,
   "id": "52fe1b7b",
   "metadata": {},
   "outputs": [
    {
     "data": {
      "text/plain": [
       "65700"
      ]
     },
     "execution_count": 37,
     "metadata": {},
     "output_type": "execute_result"
    }
   ],
   "source": [
    "get_budgets([\n",
    "{ 'name': 'John', 'age': 21, 'budget': 23000 },\n",
    "{ 'name': 'Steve', 'age': 32, 'budget': 40000 },\n",
    "{ 'name': 'Martin', 'age': 16, 'budget': 2700 }\n",
    "])"
   ]
  },
  {
   "cell_type": "code",
   "execution_count": 38,
   "id": "277f0b8a",
   "metadata": {},
   "outputs": [
    {
     "data": {
      "text/plain": [
       "62600"
      ]
     },
     "execution_count": 38,
     "metadata": {},
     "output_type": "execute_result"
    }
   ],
   "source": [
    "get_budgets([\n",
    "{ 'name': 'John', 'age': 21, 'budget': 29000 },\n",
    "{ 'name': 'Steve', 'age': 32, 'budget': 32000 },\n",
    "{ 'name': 'Martin', 'age': 16, 'budget': 1600 }\n",
    "])"
   ]
  },
  {
   "cell_type": "markdown",
   "id": "6284ae40",
   "metadata": {},
   "source": [
    "## Question 3:"
   ]
  },
  {
   "cell_type": "raw",
   "id": "a4d88e62",
   "metadata": {},
   "source": [
    "Create a function that takes a string and returns a string with its letters in alphabetical order.\n",
    "Examples\n",
    "alphabet_soup('hello') ➞ 'ehllo'\n",
    "alphabet_soup('edabit') ➞ 'abdeit'\n",
    "alphabet_soup('hacker') ➞ 'acehkr'\n",
    "alphabet_soup('geek') ➞ 'eegk'\n",
    "alphabet_soup('javascript') ➞ 'aacijprstv'"
   ]
  },
  {
   "cell_type": "code",
   "execution_count": 44,
   "id": "b72b5f32",
   "metadata": {},
   "outputs": [
    {
     "data": {
      "text/plain": [
       "'ehllo'"
      ]
     },
     "execution_count": 44,
     "metadata": {},
     "output_type": "execute_result"
    }
   ],
   "source": [
    "def alphabet_soup(str):\n",
    "    return ''.join(sorted(str))\n",
    "alphabet_soup('hello')"
   ]
  },
  {
   "cell_type": "code",
   "execution_count": 45,
   "id": "b89f4b32",
   "metadata": {},
   "outputs": [
    {
     "data": {
      "text/plain": [
       "'abdeit'"
      ]
     },
     "execution_count": 45,
     "metadata": {},
     "output_type": "execute_result"
    }
   ],
   "source": [
    "alphabet_soup('edabit')"
   ]
  },
  {
   "cell_type": "code",
   "execution_count": 46,
   "id": "6c123bba",
   "metadata": {},
   "outputs": [
    {
     "data": {
      "text/plain": [
       "'acehkr'"
      ]
     },
     "execution_count": 46,
     "metadata": {},
     "output_type": "execute_result"
    }
   ],
   "source": [
    "alphabet_soup('hacker')"
   ]
  },
  {
   "cell_type": "code",
   "execution_count": 47,
   "id": "4cfd2e49",
   "metadata": {},
   "outputs": [
    {
     "data": {
      "text/plain": [
       "'eegk'"
      ]
     },
     "execution_count": 47,
     "metadata": {},
     "output_type": "execute_result"
    }
   ],
   "source": [
    "alphabet_soup('geek')"
   ]
  },
  {
   "cell_type": "code",
   "execution_count": 48,
   "id": "bad6ff8d",
   "metadata": {},
   "outputs": [
    {
     "data": {
      "text/plain": [
       "'aacijprstv'"
      ]
     },
     "execution_count": 48,
     "metadata": {},
     "output_type": "execute_result"
    }
   ],
   "source": [
    "alphabet_soup('javascript')\n"
   ]
  },
  {
   "cell_type": "markdown",
   "id": "c41e0b7b",
   "metadata": {},
   "source": [
    "## Question 4:"
   ]
  },
  {
   "cell_type": "raw",
   "id": "247a2ecf",
   "metadata": {},
   "source": [
    "Suppose that you invest $10,000 for 10 years at an interest rate of 6% compounded monthly.\n",
    "What will be the value of your investment at the end of the 10 year period?\n",
    "Create a function that accepts the principal p, the term in years t, the interest rate r, and the\n",
    "number of compounding periods per year n. The function returns the value at the end of term\n",
    "rounded to the nearest cent.\n",
    "For the example above:\n",
    "compound_interest(10000, 10, 0.06, 12) ➞ 18193.97\n",
    "Note that the interest rate is given as a decimal and n=12 because with monthly compounding\n",
    "there are 12 periods per year. Compounding can also be done annually, quarterly, weekly, or\n",
    "daily.\n",
    "Examples\n",
    "compound_interest(100, 1, 0.05, 1) ➞ 105.0\n",
    "compound_interest(3500, 15, 0.1, 4) ➞ 15399.26\n",
    "compound_interest(100000, 20, 0.15, 365) ➞ 2007316.26\n",
    "\n",
    "FV = PV(1 + r/m)mt"
   ]
  },
  {
   "cell_type": "code",
   "execution_count": 49,
   "id": "9b1dc2e4",
   "metadata": {},
   "outputs": [],
   "source": [
    "def compound_interest(amt, years, intrest, compPeriod):\n",
    "    future_value = amt *(1 + (intrest/compPeriod)) ** (years * compPeriod)\n",
    "    return round(future_value,2)"
   ]
  },
  {
   "cell_type": "code",
   "execution_count": 50,
   "id": "6ccaed2a",
   "metadata": {},
   "outputs": [
    {
     "data": {
      "text/plain": [
       "105.0"
      ]
     },
     "execution_count": 50,
     "metadata": {},
     "output_type": "execute_result"
    }
   ],
   "source": [
    "compound_interest(100, 1, 0.05, 1)"
   ]
  },
  {
   "cell_type": "code",
   "execution_count": 51,
   "id": "5d2c6efb",
   "metadata": {},
   "outputs": [
    {
     "data": {
      "text/plain": [
       "15399.26"
      ]
     },
     "execution_count": 51,
     "metadata": {},
     "output_type": "execute_result"
    }
   ],
   "source": [
    "compound_interest(3500, 15, 0.1, 4)"
   ]
  },
  {
   "cell_type": "code",
   "execution_count": 52,
   "id": "6ba831b4",
   "metadata": {},
   "outputs": [
    {
     "data": {
      "text/plain": [
       "2007316.26"
      ]
     },
     "execution_count": 52,
     "metadata": {},
     "output_type": "execute_result"
    }
   ],
   "source": [
    "compound_interest(100000, 20, 0.15, 365)"
   ]
  },
  {
   "cell_type": "markdown",
   "id": "e227c67e",
   "metadata": {},
   "source": [
    "## Question 5:"
   ]
  },
  {
   "cell_type": "raw",
   "id": "80c715a3",
   "metadata": {},
   "source": [
    "Write a function that takes a list of elements and returns only the integers.\n",
    "Examples\n",
    "return_only_integer([9, 2, 'space', 'car', 'lion', 16]) ➞ [9, 2, 16]\n",
    "return_only_integer(['hello', 81, 'basketball', 123, 'fox']) ➞ [81, 123]\n",
    "return_only_integer([10, '121', 56, 20, 'car', 3, 'lion']) ➞ [10, 56, 20, 3]\n",
    "return_only_integer(['String', True, 3.3, 1]) ➞ [1]"
   ]
  },
  {
   "cell_type": "code",
   "execution_count": 53,
   "id": "cd385f43",
   "metadata": {
    "scrolled": true
   },
   "outputs": [],
   "source": [
    "def return_only_integer(lst):\n",
    "    intLst = []\n",
    "    for i in lst:\n",
    "        if type(i) == int:\n",
    "            intLst.append(i)\n",
    "    return intLst   "
   ]
  },
  {
   "cell_type": "code",
   "execution_count": 54,
   "id": "75f208eb",
   "metadata": {},
   "outputs": [
    {
     "data": {
      "text/plain": [
       "[9, 2, 16]"
      ]
     },
     "execution_count": 54,
     "metadata": {},
     "output_type": "execute_result"
    }
   ],
   "source": [
    "return_only_integer([9, 2, 'space', 'car', 'lion', 16])"
   ]
  },
  {
   "cell_type": "code",
   "execution_count": 55,
   "id": "7d1b419e",
   "metadata": {},
   "outputs": [
    {
     "data": {
      "text/plain": [
       "[81, 123]"
      ]
     },
     "execution_count": 55,
     "metadata": {},
     "output_type": "execute_result"
    }
   ],
   "source": [
    "return_only_integer(['hello', 81, 'basketball', 123, 'fox'])"
   ]
  },
  {
   "cell_type": "code",
   "execution_count": 56,
   "id": "8ccc6a10",
   "metadata": {},
   "outputs": [
    {
     "data": {
      "text/plain": [
       "[10, 56, 20, 3]"
      ]
     },
     "execution_count": 56,
     "metadata": {},
     "output_type": "execute_result"
    }
   ],
   "source": [
    "return_only_integer([10, '121', 56, 20, 'car', 3, 'lion']) "
   ]
  },
  {
   "cell_type": "code",
   "execution_count": 57,
   "id": "8944f396",
   "metadata": {},
   "outputs": [
    {
     "data": {
      "text/plain": [
       "[1]"
      ]
     },
     "execution_count": 57,
     "metadata": {},
     "output_type": "execute_result"
    }
   ],
   "source": [
    "return_only_integer(['String', True, 3.3, 1]) "
   ]
  },
  {
   "cell_type": "code",
   "execution_count": null,
   "id": "27741520",
   "metadata": {},
   "outputs": [],
   "source": []
  }
 ],
 "metadata": {
  "kernelspec": {
   "display_name": "Python 3",
   "language": "python",
   "name": "python3"
  },
  "language_info": {
   "codemirror_mode": {
    "name": "ipython",
    "version": 3
   },
   "file_extension": ".py",
   "mimetype": "text/x-python",
   "name": "python",
   "nbconvert_exporter": "python",
   "pygments_lexer": "ipython3",
   "version": "3.8.8"
  }
 },
 "nbformat": 4,
 "nbformat_minor": 5
}
