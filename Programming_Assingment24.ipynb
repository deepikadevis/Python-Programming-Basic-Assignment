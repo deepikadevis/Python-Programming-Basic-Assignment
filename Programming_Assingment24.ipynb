{
 "cells": [
  {
   "cell_type": "markdown",
   "id": "5e48d65f",
   "metadata": {},
   "source": [
    "# Python Basic Programming 24"
   ]
  },
  {
   "cell_type": "markdown",
   "id": "e2d34a2b",
   "metadata": {},
   "source": [
    "## Question 1:"
   ]
  },
  {
   "cell_type": "raw",
   "id": "f4d69951",
   "metadata": {},
   "source": [
    "Create a function that takes an integer and returns a list from 1 to the given number, where:\n",
    "1. If the number can be divided evenly by 4, amplify it by 10 (i.e. return 10 times the\n",
    "number).\n",
    "2. If the number cannot be divided evenly by 4, simply return the number.\n",
    "Examples\n",
    "amplify(4) ➞ [1, 2, 3, 40]\n",
    "amplify(3) ➞ [1, 2, 3]\n",
    "amplify(25) ➞ [1, 2, 3, 40, 5, 6, 7, 80, 9, 10, 11, 120, 13, 14, 15, 160,\n",
    "17, 18, 19, 200, 21, 22, 23, 240, 25]\n",
    "Notes\n",
    " The given integer will always be equal to or greater than 1.\n",
    " Include the number (see example above).\n",
    " To perform this problem with its intended purpose, try doing it with list\n",
    "comprehensions. If that's too difficult, just solve the challenge any way you can."
   ]
  },
  {
   "cell_type": "code",
   "execution_count": 108,
   "id": "24bab905",
   "metadata": {},
   "outputs": [],
   "source": [
    "def amplify(n):\n",
    "    return [i*10 if i % 4 == 0 else i for i in range(1,n+1) ]   "
   ]
  },
  {
   "cell_type": "code",
   "execution_count": 109,
   "id": "ad78f8d7",
   "metadata": {},
   "outputs": [
    {
     "data": {
      "text/plain": [
       "[1, 2, 3, 40]"
      ]
     },
     "execution_count": 109,
     "metadata": {},
     "output_type": "execute_result"
    }
   ],
   "source": [
    "amplify(4)"
   ]
  },
  {
   "cell_type": "code",
   "execution_count": 110,
   "id": "5bba4ee8",
   "metadata": {},
   "outputs": [
    {
     "data": {
      "text/plain": [
       "[1, 2, 3]"
      ]
     },
     "execution_count": 110,
     "metadata": {},
     "output_type": "execute_result"
    }
   ],
   "source": [
    "amplify(3) "
   ]
  },
  {
   "cell_type": "code",
   "execution_count": 112,
   "id": "cd06c6b9",
   "metadata": {},
   "outputs": [
    {
     "name": "stdout",
     "output_type": "stream",
     "text": [
      "[1, 2, 3, 40, 5, 6, 7, 80, 9, 10, 11, 120, 13, 14, 15, 160, 17, 18, 19, 200, 21, 22, 23, 240, 25]\n"
     ]
    }
   ],
   "source": [
    "print(amplify(25))"
   ]
  },
  {
   "cell_type": "markdown",
   "id": "6a61f768",
   "metadata": {},
   "source": [
    "## Question 2:"
   ]
  },
  {
   "cell_type": "raw",
   "id": "f89474ca",
   "metadata": {},
   "source": [
    "Create a function that takes a list of numbers and return the number that's unique.\n",
    "Examples\n",
    "unique([3, 3, 3, 7, 3, 3]) ➞ 7\n",
    "unique([0, 0, 0.77, 0, 0]) ➞ 0.77\n",
    "unique([0, 1, 1, 1, 1, 1, 1, 1]) ➞ 0\n",
    "Notes\n",
    "Test cases will always have exactly one unique number while all others are the same."
   ]
  },
  {
   "cell_type": "code",
   "execution_count": 113,
   "id": "5c45a243",
   "metadata": {},
   "outputs": [],
   "source": [
    "def unique(lst):\n",
    "    s = list(set(lst))# give us unique value\n",
    "    for i in s:\n",
    "        if lst.count(i) == 1:\n",
    "            return i"
   ]
  },
  {
   "cell_type": "code",
   "execution_count": 114,
   "id": "e8af5a33",
   "metadata": {},
   "outputs": [
    {
     "data": {
      "text/plain": [
       "7"
      ]
     },
     "execution_count": 114,
     "metadata": {},
     "output_type": "execute_result"
    }
   ],
   "source": [
    "unique([3, 3, 3, 7, 3, 3])"
   ]
  },
  {
   "cell_type": "code",
   "execution_count": 115,
   "id": "c84016f9",
   "metadata": {},
   "outputs": [
    {
     "data": {
      "text/plain": [
       "0.77"
      ]
     },
     "execution_count": 115,
     "metadata": {},
     "output_type": "execute_result"
    }
   ],
   "source": [
    "unique([0, 0, 0.77, 0, 0])"
   ]
  },
  {
   "cell_type": "code",
   "execution_count": 116,
   "id": "0eed552b",
   "metadata": {},
   "outputs": [
    {
     "data": {
      "text/plain": [
       "0"
      ]
     },
     "execution_count": 116,
     "metadata": {},
     "output_type": "execute_result"
    }
   ],
   "source": [
    "unique([0, 1, 1, 1, 1, 1, 1, 1])"
   ]
  },
  {
   "cell_type": "markdown",
   "id": "6284ae40",
   "metadata": {},
   "source": [
    "## Question 3:"
   ]
  },
  {
   "cell_type": "raw",
   "id": "6d2af10d",
   "metadata": {},
   "source": [
    "Your task is to create a Circle constructor that creates a circle with a radius provided by an\n",
    "argument. The circles constructed must have two getters getArea() (PIr^2) and\n",
    "getPerimeter() (2PI*r) which give both respective areas and perimeter (circumference).\n",
    "\n",
    "For help with this class, I have provided you with a Rectangle constructor which you can use\n",
    "as a base example.\n",
    "Examples\n",
    "circy = Circle(11)\n",
    "circy.getArea()\n",
    "# Should return 380.132711084365\n",
    "circy = Circle(4.44)\n",
    "circy.getPerimeter()\n",
    "# Should return 27.897342763877365\n",
    "Notes\n",
    "Round results up to the nearest integer."
   ]
  },
  {
   "cell_type": "code",
   "execution_count": 117,
   "id": "b72b5f32",
   "metadata": {},
   "outputs": [],
   "source": [
    "class Circle():\n",
    "    def __init__(self, r):\n",
    "        self.radius = r\n",
    "\n",
    "    def getArea(self):\n",
    "        return round(self.radius**2*3.14)\n",
    "    \n",
    "    def getPerimeter(self):\n",
    "        return round(2*self.radius*3.14)"
   ]
  },
  {
   "cell_type": "code",
   "execution_count": 118,
   "id": "7491a403",
   "metadata": {},
   "outputs": [
    {
     "data": {
      "text/plain": [
       "380"
      ]
     },
     "execution_count": 118,
     "metadata": {},
     "output_type": "execute_result"
    }
   ],
   "source": [
    "circy = Circle(11)\n",
    "circy.getArea()"
   ]
  },
  {
   "cell_type": "code",
   "execution_count": 119,
   "id": "fe64f25c",
   "metadata": {},
   "outputs": [
    {
     "data": {
      "text/plain": [
       "28"
      ]
     },
     "execution_count": 119,
     "metadata": {},
     "output_type": "execute_result"
    }
   ],
   "source": [
    "circy = Circle(4.44)\n",
    "circy.getPerimeter()"
   ]
  },
  {
   "cell_type": "markdown",
   "id": "c41e0b7b",
   "metadata": {},
   "source": [
    "## Question 4:"
   ]
  },
  {
   "cell_type": "raw",
   "id": "a2851b99",
   "metadata": {},
   "source": [
    "Create a function that takes a list of strings and return a list, sorted from shortest to longest.\n",
    "Examples\n",
    "sort_by_length(['Google', 'Apple', 'Microsoft'])\n",
    "➞ ['Apple', 'Google', 'Microsoft']\n",
    "sort_by_length(['Leonardo', 'Michelangelo', 'Raphael', 'Donatello'])\n",
    "➞ ['Raphael', 'Leonardo', 'Donatello', 'Michelangelo']\n",
    "sort_by_length(['Turing', 'Einstein', 'Jung'])\n",
    "➞ ['Jung', 'Turing', 'Einstein']\n",
    "Notes\n",
    "All test cases contain lists with strings of different lengths, so you won't have to deal with\n",
    "multiple strings of the same length."
   ]
  },
  {
   "cell_type": "code",
   "execution_count": 120,
   "id": "9b1dc2e4",
   "metadata": {},
   "outputs": [],
   "source": [
    "def sort_by_length(lst):\n",
    "    return sorted(lst, key = len)"
   ]
  },
  {
   "cell_type": "code",
   "execution_count": 121,
   "id": "1919f855",
   "metadata": {},
   "outputs": [
    {
     "data": {
      "text/plain": [
       "['Apple', 'Google', 'Microsoft']"
      ]
     },
     "execution_count": 121,
     "metadata": {},
     "output_type": "execute_result"
    }
   ],
   "source": [
    "sort_by_length(['Google', 'Apple', 'Microsoft'])"
   ]
  },
  {
   "cell_type": "code",
   "execution_count": 122,
   "id": "644cf9fe",
   "metadata": {},
   "outputs": [
    {
     "data": {
      "text/plain": [
       "['Raphael', 'Leonardo', 'Donatello', 'Michelangelo']"
      ]
     },
     "execution_count": 122,
     "metadata": {},
     "output_type": "execute_result"
    }
   ],
   "source": [
    "sort_by_length(['Leonardo', 'Michelangelo', 'Raphael', 'Donatello'])"
   ]
  },
  {
   "cell_type": "code",
   "execution_count": 123,
   "id": "51b53944",
   "metadata": {},
   "outputs": [
    {
     "data": {
      "text/plain": [
       "['Jung', 'Turing', 'Einstein']"
      ]
     },
     "execution_count": 123,
     "metadata": {},
     "output_type": "execute_result"
    }
   ],
   "source": [
    "sort_by_length(['Turing', 'Einstein', 'Jung'])"
   ]
  },
  {
   "cell_type": "markdown",
   "id": "e227c67e",
   "metadata": {},
   "source": [
    "## Question 5:"
   ]
  },
  {
   "cell_type": "raw",
   "id": "c6122e27",
   "metadata": {},
   "source": [
    "Create a function that validates whether three given integers form a Pythagorean triplet. The\n",
    "sum of the squares of the two smallest integers must equal the square of the largest number to\n",
    "be validated.\n",
    "\n",
    "Examples\n",
    "is_triplet(3, 4, 5) ➞ True\n",
    "# 3² + 4² = 25\n",
    "# 5² = 25\n",
    "is_triplet(13, 5, 12) ➞ True\n",
    "# 5² + 12² = 169\n",
    "# 13² = 169\n",
    "is_triplet(1, 2, 3) ➞ False\n",
    "# 1² + 2² = 5\n",
    "# 3² = 9\n",
    "Notes\n",
    "Numbers may not be given in a sorted order."
   ]
  },
  {
   "cell_type": "code",
   "execution_count": 124,
   "id": "cd385f43",
   "metadata": {
    "scrolled": true
   },
   "outputs": [],
   "source": [
    "def is_triplet(a,b,c):\n",
    "    lst = []\n",
    "    lst.extend((a,b,c))\n",
    "    lst = sorted(lst)\n",
    "\n",
    "    if lst[0]**2 + lst[1]**2 == lst[2]**2:\n",
    "        print('Triplets')\n",
    "        return True\n",
    "    else:\n",
    "        print(\"not triplet\")\n",
    "        return False"
   ]
  },
  {
   "cell_type": "code",
   "execution_count": 125,
   "id": "9e83dc2c",
   "metadata": {},
   "outputs": [
    {
     "name": "stdout",
     "output_type": "stream",
     "text": [
      "Triplets\n"
     ]
    },
    {
     "data": {
      "text/plain": [
       "True"
      ]
     },
     "execution_count": 125,
     "metadata": {},
     "output_type": "execute_result"
    }
   ],
   "source": [
    "is_triplet(3, 4, 5)"
   ]
  },
  {
   "cell_type": "code",
   "execution_count": 126,
   "id": "35bbc026",
   "metadata": {},
   "outputs": [
    {
     "name": "stdout",
     "output_type": "stream",
     "text": [
      "Triplets\n"
     ]
    },
    {
     "data": {
      "text/plain": [
       "True"
      ]
     },
     "execution_count": 126,
     "metadata": {},
     "output_type": "execute_result"
    }
   ],
   "source": [
    "is_triplet(13, 5, 12) "
   ]
  },
  {
   "cell_type": "code",
   "execution_count": 127,
   "id": "66b0dc7a",
   "metadata": {},
   "outputs": [
    {
     "name": "stdout",
     "output_type": "stream",
     "text": [
      "not triplet\n"
     ]
    },
    {
     "data": {
      "text/plain": [
       "False"
      ]
     },
     "execution_count": 127,
     "metadata": {},
     "output_type": "execute_result"
    }
   ],
   "source": [
    "is_triplet(1, 2, 3)"
   ]
  },
  {
   "cell_type": "code",
   "execution_count": null,
   "id": "de1d3779",
   "metadata": {},
   "outputs": [],
   "source": []
  }
 ],
 "metadata": {
  "kernelspec": {
   "display_name": "Python 3",
   "language": "python",
   "name": "python3"
  },
  "language_info": {
   "codemirror_mode": {
    "name": "ipython",
    "version": 3
   },
   "file_extension": ".py",
   "mimetype": "text/x-python",
   "name": "python",
   "nbconvert_exporter": "python",
   "pygments_lexer": "ipython3",
   "version": "3.8.8"
  }
 },
 "nbformat": 4,
 "nbformat_minor": 5
}
