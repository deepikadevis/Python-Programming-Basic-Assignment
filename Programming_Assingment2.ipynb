{
 "cells": [
  {
   "cell_type": "markdown",
   "id": "9919428f",
   "metadata": {},
   "source": [
    "# Python Basic Programming 2"
   ]
  },
  {
   "cell_type": "markdown",
   "id": "3ae467c4",
   "metadata": {},
   "source": [
    "## 1. Write a Python program to convert kilometers to miles?"
   ]
  },
  {
   "cell_type": "code",
   "execution_count": 7,
   "id": "a7bd9ab5",
   "metadata": {},
   "outputs": [
    {
     "name": "stdout",
     "output_type": "stream",
     "text": [
      "Enter kilometers :20\n",
      "20.000 kilometers is equal to 12.420 miles\n"
     ]
    }
   ],
   "source": [
    "kilometers = float(input(\"Enter kilometers :\"))\n",
    "conversionUnit = 0.621\n",
    "miles = kilometers * conversionUnit\n",
    "print(\"%0.3f kilometers is equal to %0.3f miles\"%(kilometers,miles))"
   ]
  },
  {
   "cell_type": "markdown",
   "id": "63ae1351",
   "metadata": {},
   "source": [
    "## 2. Write a Python program to convert Celsius to Fahrenheit?"
   ]
  },
  {
   "cell_type": "code",
   "execution_count": 8,
   "id": "6d7fb5d8",
   "metadata": {},
   "outputs": [
    {
     "name": "stdout",
     "output_type": "stream",
     "text": [
      "Celsius : 20\n",
      "20.00 celsius is 68.00 fahrenheit\n"
     ]
    }
   ],
   "source": [
    "# Fahrenheit = celsius *(9/5) + 32\n",
    "\n",
    "celsius = float(input(\"Celsius : \"))\n",
    "fahrenheit = 9/5 * celsius + 32\n",
    "print(\"%0.2f celsius is %0.2f fahrenheit\"%(celsius,fahrenheit))"
   ]
  },
  {
   "cell_type": "markdown",
   "id": "543c734c",
   "metadata": {},
   "source": [
    "## 3. Write a Python program to display calendar?"
   ]
  },
  {
   "cell_type": "code",
   "execution_count": 9,
   "id": "926bf375",
   "metadata": {},
   "outputs": [
    {
     "name": "stdout",
     "output_type": "stream",
     "text": [
      " Enter Year : 2000\n",
      "Enter Month : 8\n",
      "Calender\n",
      "    August 2000\n",
      "Mo Tu We Th Fr Sa Su\n",
      "    1  2  3  4  5  6\n",
      " 7  8  9 10 11 12 13\n",
      "14 15 16 17 18 19 20\n",
      "21 22 23 24 25 26 27\n",
      "28 29 30 31\n",
      "\n"
     ]
    }
   ],
   "source": [
    "import calendar\n",
    "\n",
    "y = int(input(\" Enter Year : \"))\n",
    "m = int(input(\"Enter Month : \"))\n",
    "\n",
    "try :\n",
    "    print(\"Calender\")\n",
    "    print(calendar.month(y,m))\n",
    "except:\n",
    "    print(\"Out of range\")"
   ]
  },
  {
   "cell_type": "markdown",
   "id": "4bab6907",
   "metadata": {},
   "source": [
    "## 4. Write a Python program to solve quadratic equation?"
   ]
  },
  {
   "cell_type": "markdown",
   "id": "85af4dd0",
   "metadata": {},
   "source": [
    "- quadratic equation 2x**2 + bx + c\n",
    "- descriminant = b**2 - (4* a * c)\n",
    "- x = (-b-sqrt(d))/2 , x = (b-sqrt(d))/2"
   ]
  },
  {
   "cell_type": "code",
   "execution_count": 14,
   "id": "7efa6e76",
   "metadata": {},
   "outputs": [
    {
     "name": "stdout",
     "output_type": "stream",
     "text": [
      "Descriminant :  12\n",
      "Sol1 :  -3.732050807568877\n",
      "Sol2 :  2.267949192431123\n"
     ]
    }
   ],
   "source": [
    "import math\n",
    "a = 1\n",
    "b = 4\n",
    "c = 1\n",
    "\n",
    "d = b**2 - (4*a*c)\n",
    "print(\"Descriminant : \",d)\n",
    "\n",
    "sol1 = (-b - math.sqrt(d))/(2*a)\n",
    "sol2 = b - (math.sqrt(d))/(2*a)\n",
    "\n",
    "print(\"Sol1 : \",sol1)\n",
    "print(\"Sol2 : \",sol2)"
   ]
  },
  {
   "cell_type": "markdown",
   "id": "385f8083",
   "metadata": {},
   "source": [
    "## 5. Write a Python program to swap two variables without temp variable?"
   ]
  },
  {
   "cell_type": "code",
   "execution_count": 15,
   "id": "924af152",
   "metadata": {},
   "outputs": [
    {
     "name": "stdout",
     "output_type": "stream",
     "text": [
      "Num1 : 26\n",
      "Num2 : 36\n",
      "Before swaping x = 26, y = 36\n",
      "After swaping x = 36, y = 26\n"
     ]
    }
   ],
   "source": [
    "x = int(input(\"Num1 : \"))\n",
    "y = int(input(\"Num2 : \"))\n",
    "print(\"Before swaping x = {}, y = {}\".format(x,y))\n",
    "#swaping :)\n",
    "y,x = x,y\n",
    "print(\"After swaping x = {}, y = {}\".format(x,y))"
   ]
  },
  {
   "cell_type": "code",
   "execution_count": null,
   "id": "62e9ccfa",
   "metadata": {},
   "outputs": [],
   "source": []
  }
 ],
 "metadata": {
  "kernelspec": {
   "display_name": "Python 3",
   "language": "python",
   "name": "python3"
  },
  "language_info": {
   "codemirror_mode": {
    "name": "ipython",
    "version": 3
   },
   "file_extension": ".py",
   "mimetype": "text/x-python",
   "name": "python",
   "nbconvert_exporter": "python",
   "pygments_lexer": "ipython3",
   "version": "3.8.8"
  }
 },
 "nbformat": 4,
 "nbformat_minor": 5
}
