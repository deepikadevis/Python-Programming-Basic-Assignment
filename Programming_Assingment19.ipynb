{
 "cells": [
  {
   "cell_type": "markdown",
   "id": "5e48d65f",
   "metadata": {},
   "source": [
    "# Python Basic Programming 19"
   ]
  },
  {
   "cell_type": "markdown",
   "id": "e2d34a2b",
   "metadata": {},
   "source": [
    "## Question 1:"
   ]
  },
  {
   "cell_type": "raw",
   "id": "38cd2a0e",
   "metadata": {},
   "source": [
    "Create a function that takes a string and returns a string in which each character is repeated\n",
    "once.\n",
    "Examples\n",
    "double_char('String') ➞ 'SSttrriinngg'\n",
    "double_char('Hello World!') ➞ 'HHeelllloo WWoorrlldd!!'\n",
    "double_char('1234!_ ') ➞ '11223344!!__ '"
   ]
  },
  {
   "cell_type": "code",
   "execution_count": 21,
   "id": "24bab905",
   "metadata": {},
   "outputs": [
    {
     "name": "stdout",
     "output_type": "stream",
     "text": [
      "aabbvv\n"
     ]
    }
   ],
   "source": [
    "def double(str):\n",
    "    return ''.join([c+c for c in str])\n",
    "print(double('abv')) "
   ]
  },
  {
   "cell_type": "code",
   "execution_count": 22,
   "id": "02e71bf5",
   "metadata": {},
   "outputs": [
    {
     "name": "stdout",
     "output_type": "stream",
     "text": [
      "SSttrriinngg\n"
     ]
    }
   ],
   "source": [
    "print(double('String'))"
   ]
  },
  {
   "cell_type": "code",
   "execution_count": 23,
   "id": "38a9283b",
   "metadata": {},
   "outputs": [
    {
     "name": "stdout",
     "output_type": "stream",
     "text": [
      "HHeelllloo  WWoorrlldd!!\n"
     ]
    }
   ],
   "source": [
    "print(double('Hello World!'))"
   ]
  },
  {
   "cell_type": "code",
   "execution_count": 24,
   "id": "58662722",
   "metadata": {},
   "outputs": [
    {
     "name": "stdout",
     "output_type": "stream",
     "text": [
      "11223344!!__  \n"
     ]
    }
   ],
   "source": [
    "print(double('1234!_ '))"
   ]
  },
  {
   "cell_type": "markdown",
   "id": "6a61f768",
   "metadata": {},
   "source": [
    "## Question 2:"
   ]
  },
  {
   "cell_type": "raw",
   "id": "e8260339",
   "metadata": {},
   "source": [
    "Create a function that reverses a boolean value and returns the string 'boolean expected'\n",
    "if another variable type is given.\n",
    "Examples\n",
    "reverse(True) ➞ False\n",
    "reverse(False) ➞ True\n",
    "reverse(0) ➞ 'boolean expected'\n",
    "reverse(None) ➞ 'boolean expected'"
   ]
  },
  {
   "cell_type": "code",
   "execution_count": 25,
   "id": "5c45a243",
   "metadata": {},
   "outputs": [
    {
     "name": "stdout",
     "output_type": "stream",
     "text": [
      "False\n",
      "True\n",
      "boolean expected\n",
      "boolean expected\n"
     ]
    }
   ],
   "source": [
    "def reverse(arg=None):\n",
    "    return not arg if type(arg) == bool else \"boolean expected\"\n",
    "\n",
    "print(reverse(True)) # False\n",
    "print(reverse(False)) # True\n",
    "print(reverse(0)) # \"boolean expected\"\n",
    "print(reverse(None)) # \"boolean expected\""
   ]
  },
  {
   "cell_type": "markdown",
   "id": "6284ae40",
   "metadata": {},
   "source": [
    "## Question 3:"
   ]
  },
  {
   "cell_type": "raw",
   "id": "39a4dac0",
   "metadata": {},
   "source": [
    "Create a function that returns the thickness (in meters) of a piece of paper after folding it n\n",
    "number of times. The paper starts off with a thickness of 0.5mm.\n",
    "Examples\n",
    "num_layers(1) ➞ '0.001m'\n",
    "# Paper folded once is 1mm (equal to 0.001m)\n",
    "num_layers(4) ➞ '0.008m'\n",
    "# Paper folded 4 times is 8mm (equal to 0.008m)\n",
    "num_layers(21) ➞ '1048.576m'\n",
    "# Paper folded 21 times is 1048576mm (equal to 1048.576m)"
   ]
  },
  {
   "cell_type": "code",
   "execution_count": 26,
   "id": "b72b5f32",
   "metadata": {},
   "outputs": [
    {
     "name": "stdout",
     "output_type": "stream",
     "text": [
      "0.001m\n",
      "0.008m\n",
      "1048.576m\n"
     ]
    }
   ],
   "source": [
    "def num_layers(n):\n",
    "    thickness = 0.5\n",
    "    for _ in range(n):\n",
    "        thickness *= 2\n",
    "    \n",
    "    return str(thickness / 1000)+'m' # for meters\n",
    "\n",
    "print(num_layers(1))\n",
    "print(num_layers(4))\n",
    "print(num_layers(21))"
   ]
  },
  {
   "cell_type": "markdown",
   "id": "c41e0b7b",
   "metadata": {},
   "source": [
    "## Question 4:"
   ]
  },
  {
   "cell_type": "raw",
   "id": "12955945",
   "metadata": {},
   "source": [
    "Create a function that takes a single string as argument and returns an ordered list containing\n",
    "the indices of all capital letters in the string.\n",
    "Examples\n",
    "index_of_caps('eDaBiT') ➞ [1, 3, 5]\n",
    "index_of_caps('eQuINoX') ➞ [1, 3, 4, 6]\n",
    "index_of_caps('determine') ➞ []\n",
    "index_of_caps('STRIKE') ➞ [0, 1, 2, 3, 4, 5]\n",
    "index_of_caps('sUn') ➞ [1]"
   ]
  },
  {
   "cell_type": "code",
   "execution_count": 27,
   "id": "9b1dc2e4",
   "metadata": {},
   "outputs": [
    {
     "name": "stdout",
     "output_type": "stream",
     "text": [
      "[0, 3]\n",
      "[1, 3, 5]\n",
      "[1, 3, 4, 6]\n",
      "[]\n",
      "[0, 1, 2, 3, 4, 5]\n",
      "[1]\n"
     ]
    }
   ],
   "source": [
    "def index_of_caps(word):\n",
    "    indices = []\n",
    "    for i in range(len(word)):\n",
    "        if word[i].isupper():\n",
    "             indices.append(i)\n",
    "    return indices\n",
    "\n",
    "print(index_of_caps('BhaNu'))\n",
    "print(index_of_caps('eDaBiT'))\n",
    "print(index_of_caps('eQuINoX')) \n",
    "print(index_of_caps('determine'))\n",
    "print(index_of_caps('STRIKE'))\n",
    "print(index_of_caps('sUn'))"
   ]
  },
  {
   "cell_type": "markdown",
   "id": "e227c67e",
   "metadata": {},
   "source": [
    "## Question 5:"
   ]
  },
  {
   "cell_type": "raw",
   "id": "272f900d",
   "metadata": {},
   "source": [
    "Using list comprehensions, create a function that finds all even numbers from 1 to the given\n",
    "number.\n",
    "Examples\n",
    "find_even_nums(8) ➞ [2, 4, 6, 8]\n",
    "find_even_nums(4) ➞ [2, 4]\n",
    "find_even_nums(2) ➞ [2]"
   ]
  },
  {
   "cell_type": "code",
   "execution_count": 28,
   "id": "cd385f43",
   "metadata": {
    "scrolled": true
   },
   "outputs": [
    {
     "name": "stdout",
     "output_type": "stream",
     "text": [
      "Enter a number : 8\n"
     ]
    },
    {
     "data": {
      "text/plain": [
       "[2, 4, 6, 8]"
      ]
     },
     "execution_count": 28,
     "metadata": {},
     "output_type": "execute_result"
    }
   ],
   "source": [
    "def find_even_nums(n):\n",
    "    even =[x for x in range(2,n+1) if x % 2 == 0]\n",
    "    return even\n",
    "\n",
    "n = int(input('Enter a number : '))\n",
    "find_even_nums(n)\n",
    "    "
   ]
  },
  {
   "cell_type": "code",
   "execution_count": 29,
   "id": "1adda507",
   "metadata": {},
   "outputs": [
    {
     "data": {
      "text/plain": [
       "[2, 4]"
      ]
     },
     "execution_count": 29,
     "metadata": {},
     "output_type": "execute_result"
    }
   ],
   "source": [
    "find_even_nums(4)"
   ]
  },
  {
   "cell_type": "code",
   "execution_count": 30,
   "id": "44ba4131",
   "metadata": {},
   "outputs": [
    {
     "data": {
      "text/plain": [
       "[2]"
      ]
     },
     "execution_count": 30,
     "metadata": {},
     "output_type": "execute_result"
    }
   ],
   "source": [
    "find_even_nums(2) "
   ]
  },
  {
   "cell_type": "code",
   "execution_count": null,
   "id": "f865d5c8",
   "metadata": {},
   "outputs": [],
   "source": []
  }
 ],
 "metadata": {
  "kernelspec": {
   "display_name": "Python 3",
   "language": "python",
   "name": "python3"
  },
  "language_info": {
   "codemirror_mode": {
    "name": "ipython",
    "version": 3
   },
   "file_extension": ".py",
   "mimetype": "text/x-python",
   "name": "python",
   "nbconvert_exporter": "python",
   "pygments_lexer": "ipython3",
   "version": "3.8.8"
  }
 },
 "nbformat": 4,
 "nbformat_minor": 5
}
