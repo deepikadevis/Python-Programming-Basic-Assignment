{
 "cells": [
  {
   "cell_type": "markdown",
   "id": "c6cfa104",
   "metadata": {},
   "source": [
    "# Python Basic Programming 12"
   ]
  },
  {
   "cell_type": "markdown",
   "id": "e2d34a2b",
   "metadata": {},
   "source": [
    "## 1.\tWrite a Python program to Extract Unique values dictionary values?"
   ]
  },
  {
   "cell_type": "code",
   "execution_count": 16,
   "id": "24bab905",
   "metadata": {},
   "outputs": [
    {
     "name": "stdout",
     "output_type": "stream",
     "text": [
      "The original dictionary is : {'gfg': [5, 6, 7, 8], 'is': [10, 11, 7, 5], 'best': [6, 12, 10, 8], 'for': [1, 2, 5]}\n",
      "The unique values list is : [1, 2, 5, 6, 7, 8, 10, 11, 12]\n"
     ]
    }
   ],
   "source": [
    "test_dict = {'gfg' : [5, 6, 7, 8],\n",
    "             'is' : [10, 11, 7, 5],\n",
    "             'best' : [6, 12, 10, 8],\n",
    "             'for' : [1, 2, 5]}\n",
    "print(\"The original dictionary is : \" + str(test_dict))\n",
    "res = list(sorted({ele for val in test_dict.values() for ele in val}))\n",
    "print(\"The unique values list is : \" + str(res))\n"
   ]
  },
  {
   "cell_type": "markdown",
   "id": "19af3a00",
   "metadata": {},
   "source": [
    "## 2.\tWrite a Python program to find the sum of all items in a dictionary?"
   ]
  },
  {
   "cell_type": "code",
   "execution_count": 17,
   "id": "5c45a243",
   "metadata": {},
   "outputs": [
    {
     "name": "stdout",
     "output_type": "stream",
     "text": [
      "Sum : 600\n"
     ]
    }
   ],
   "source": [
    "def returnSum(myDict):\n",
    "    list = []\n",
    "    for i in myDict:\n",
    "        list.append(myDict[i])\n",
    "    final = sum(list)\n",
    "    return final\n",
    "dict = {'a': 100, 'b':200, 'c':300}\n",
    "print(\"Sum :\", returnSum(dict))\n"
   ]
  },
  {
   "cell_type": "markdown",
   "id": "6284ae40",
   "metadata": {},
   "source": [
    "## 3.\tWrite a Python program to Merging two Dictionaries?"
   ]
  },
  {
   "cell_type": "code",
   "execution_count": 18,
   "id": "b72b5f32",
   "metadata": {},
   "outputs": [
    {
     "name": "stdout",
     "output_type": "stream",
     "text": [
      "None\n",
      "{'d': 6, 'c': 4, 'a': 10, 'b': 8}\n"
     ]
    }
   ],
   "source": [
    "def Merge(dict1, dict2):\n",
    "    return(dict2.update(dict1))\n",
    "dict1 = {'a': 10, 'b': 8}\n",
    "dict2 = {'d': 6, 'c': 4}\n",
    "print(Merge(dict1, dict2))\n",
    "print(dict2)\n"
   ]
  },
  {
   "cell_type": "markdown",
   "id": "c41e0b7b",
   "metadata": {},
   "source": [
    "## 4.\tWrite a Python program to convert key-values list to flat dictionary?"
   ]
  },
  {
   "cell_type": "code",
   "execution_count": 41,
   "id": "9b1dc2e4",
   "metadata": {},
   "outputs": [
    {
     "name": "stdout",
     "output_type": "stream",
     "text": [
      "The dictionary is : \n",
      "{'month_num': [1, 2, 3, 4, 5, 6], 'name_of_month': ['Jan', 'Feb', 'March', 'Apr', 'May', 'June']}\n"
     ]
    },
    {
     "ename": "TypeError",
     "evalue": "'dict' object is not callable",
     "output_type": "error",
     "traceback": [
      "\u001b[1;31m---------------------------------------------------------------------------\u001b[0m",
      "\u001b[1;31mTypeError\u001b[0m                                 Traceback (most recent call last)",
      "\u001b[1;32m<ipython-input-41-17001f7b54ef>\u001b[0m in \u001b[0;36m<module>\u001b[1;34m\u001b[0m\n\u001b[0;32m      6\u001b[0m \u001b[0mprint\u001b[0m\u001b[1;33m(\u001b[0m\u001b[0mmy_dict\u001b[0m\u001b[1;33m)\u001b[0m\u001b[1;33m\u001b[0m\u001b[1;33m\u001b[0m\u001b[0m\n\u001b[0;32m      7\u001b[0m \u001b[1;33m\u001b[0m\u001b[0m\n\u001b[1;32m----> 8\u001b[1;33m \u001b[0mmy_result\u001b[0m \u001b[1;33m=\u001b[0m \u001b[0mdict\u001b[0m\u001b[1;33m(\u001b[0m\u001b[0mzip\u001b[0m\u001b[1;33m(\u001b[0m\u001b[0mmy_dict\u001b[0m\u001b[1;33m[\u001b[0m\u001b[1;34m'month_num'\u001b[0m\u001b[1;33m]\u001b[0m\u001b[1;33m,\u001b[0m \u001b[0mmy_dict\u001b[0m\u001b[1;33m[\u001b[0m\u001b[1;34m'name_of_month'\u001b[0m\u001b[1;33m]\u001b[0m\u001b[1;33m)\u001b[0m\u001b[1;33m)\u001b[0m\u001b[1;33m\u001b[0m\u001b[1;33m\u001b[0m\u001b[0m\n\u001b[0m\u001b[0;32m      9\u001b[0m \u001b[1;33m\u001b[0m\u001b[0m\n\u001b[0;32m     10\u001b[0m \u001b[0mprint\u001b[0m\u001b[1;33m(\u001b[0m\u001b[1;34m\"The flattened dictionary is: \"\u001b[0m\u001b[1;33m)\u001b[0m\u001b[1;33m\u001b[0m\u001b[1;33m\u001b[0m\u001b[0m\n",
      "\u001b[1;31mTypeError\u001b[0m: 'dict' object is not callable"
     ]
    }
   ],
   "source": [
    "from itertools import product\n",
    "\n",
    "my_dict = {'month_num' : [1, 2, 3, 4, 5, 6], 'name_of_month' : ['Jan', 'Feb', 'March', 'Apr', 'May', 'June']}\n",
    "\n",
    "print(\"The dictionary is : \")\n",
    "print(my_dict)\n",
    "\n",
    "my_result = dict(zip(my_dict['month_num'], my_dict['name_of_month']))\n",
    "\n",
    "print(\"The flattened dictionary is: \")\n",
    "print(my_result)"
   ]
  },
  {
   "cell_type": "markdown",
   "id": "e227c67e",
   "metadata": {},
   "source": [
    "## 5.\tWrite a Python program to insertion at the beginning in OrderedDict?"
   ]
  },
  {
   "cell_type": "code",
   "execution_count": 23,
   "id": "cd385f43",
   "metadata": {
    "scrolled": true
   },
   "outputs": [
    {
     "name": "stdout",
     "output_type": "stream",
     "text": [
      "The dictionary is :\n",
      "OrderedDict([('Will', '1'), ('James', '2'), ('Rob', '4')])\n",
      "The resultant dictionary is : \n",
      "OrderedDict([('Mark', '7'), ('Will', '1'), ('James', '2'), ('Rob', '4')])\n"
     ]
    }
   ],
   "source": [
    "from collections import OrderedDict\n",
    "my_ordered_dict = OrderedDict([('Will', '1'), ('James', '2'), ('Rob', '4')])\n",
    "print(\"The dictionary is :\")\n",
    "print(my_ordered_dict)\n",
    "my_ordered_dict.update({'Mark':'7'})\n",
    "my_ordered_dict.move_to_end('Mark', last = False)\n",
    "print(\"The resultant dictionary is : \")\n",
    "print(my_ordered_dict)\n"
   ]
  },
  {
   "cell_type": "markdown",
   "id": "c42441f9",
   "metadata": {},
   "source": [
    "## 6.\tWrite a Python program to check order of character in string using OrderedDict()?"
   ]
  },
  {
   "cell_type": "code",
   "execution_count": 24,
   "id": "6c26de7e",
   "metadata": {},
   "outputs": [
    {
     "name": "stdout",
     "output_type": "stream",
     "text": [
      "The string is \n",
      "Hi Mark\n",
      "The input pattern is \n",
      "Ma\n",
      "The order of pattern is correct\n"
     ]
    }
   ],
   "source": [
    "from collections import OrderedDict\n",
    "def check_order(my_input, my_pattern):\n",
    "   my_dict = OrderedDict.fromkeys(my_input)\n",
    "   pattern_length = 0\n",
    "   for key,value in my_dict.items():\n",
    "      if (key == my_pattern[pattern_length]):\n",
    "         pattern_length = pattern_length + 1\n",
    "      if (pattern_length == (len(my_pattern))):\n",
    "         return 'The order of pattern is correct'\n",
    "   return 'The order of pattern is incorrect'\n",
    "my_input = 'Hi Mark'\n",
    "input_pattern = 'Ma'\n",
    "print(\"The string is \")\n",
    "print(my_input)\n",
    "print(\"The input pattern is \")\n",
    "print(input_pattern)\n",
    "print(check_order(my_input,input_pattern))\t\n"
   ]
  },
  {
   "cell_type": "markdown",
   "id": "d45777f3",
   "metadata": {},
   "source": [
    "## 7.\tWrite a Python program to sort Python Dictionaries by Key or Value?"
   ]
  },
  {
   "cell_type": "code",
   "execution_count": 30,
   "id": "2dc18654",
   "metadata": {},
   "outputs": [
    {
     "name": "stdout",
     "output_type": "stream",
     "text": [
      "[1, 2, 3, 4, 5, 6]\n",
      "[(1, 2), (2, 1), (3, 4), (4, 3), (5, 6), (6, 5)]\n"
     ]
    }
   ],
   "source": [
    "a = {1:2 ,2:1 ,4:3 ,3:4 ,6:5 ,5:6 }\n",
    "print(sorted(a.keys()))\n",
    "\n",
    "print(sorted(a.items()))"
   ]
  },
  {
   "cell_type": "code",
   "execution_count": 31,
   "id": "15510ba1",
   "metadata": {},
   "outputs": [
    {
     "name": "stdout",
     "output_type": "stream",
     "text": [
      "[1, 2, 3, 4, 5, 6]\n"
     ]
    }
   ],
   "source": [
    "a = {1:2 ,2:1 ,4:3 ,3:4 ,6:5 ,5:6 }\n",
    "print(sorted(a.values()))"
   ]
  },
  {
   "cell_type": "code",
   "execution_count": null,
   "id": "8aea826c",
   "metadata": {},
   "outputs": [],
   "source": []
  }
 ],
 "metadata": {
  "kernelspec": {
   "display_name": "Python 3",
   "language": "python",
   "name": "python3"
  },
  "language_info": {
   "codemirror_mode": {
    "name": "ipython",
    "version": 3
   },
   "file_extension": ".py",
   "mimetype": "text/x-python",
   "name": "python",
   "nbconvert_exporter": "python",
   "pygments_lexer": "ipython3",
   "version": "3.8.8"
  }
 },
 "nbformat": 4,
 "nbformat_minor": 5
}
